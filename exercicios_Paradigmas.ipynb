{
  "nbformat": 4,
  "nbformat_minor": 0,
  "metadata": {
    "colab": {
      "provenance": [],
      "authorship_tag": "ABX9TyMFOqIBm9GttMJL0gwaiwzt",
      "include_colab_link": true
    },
    "kernelspec": {
      "name": "python3",
      "display_name": "Python 3"
    },
    "language_info": {
      "name": "python"
    }
  },
  "cells": [
    {
      "cell_type": "markdown",
      "metadata": {
        "id": "view-in-github",
        "colab_type": "text"
      },
      "source": [
        "<a href=\"https://colab.research.google.com/github/MauMaulian/Atividades_paradigmas/blob/main/exercicios_Paradigmas.ipynb\" target=\"_parent\"><img src=\"https://colab.research.google.com/assets/colab-badge.svg\" alt=\"Open In Colab\"/></a>"
      ]
    },
    {
      "cell_type": "markdown",
      "source": [
        "Programa 01 - objetivo : fazer a leitura de duas notas e calcular sua média"
      ],
      "metadata": {
        "id": "jNT_tkZwM76m"
      }
    },
    {
      "cell_type": "code",
      "source": [
        "# declarando variáveis\n",
        "nota1 = float(input(\"informe nota 01 \"))\n",
        "nota2 = float(input(\"informe nota 02 \"))\n",
        "med = (nota1+nota2)/2\n",
        "\n",
        "print(\"A média final é:\")\n",
        "print(med)"
      ],
      "metadata": {
        "colab": {
          "base_uri": "https://localhost:8080/"
        },
        "id": "hQlyTRAlNFsF",
        "outputId": "43752db3-6fe3-40d3-c79b-8e306f909e83"
      },
      "execution_count": null,
      "outputs": [
        {
          "output_type": "stream",
          "name": "stdout",
          "text": [
            "informe nota 01 5\n",
            "informe nota 02 7\n",
            "6.0\n"
          ]
        }
      ]
    },
    {
      "cell_type": "markdown",
      "source": [],
      "metadata": {
        "id": "tC398oG-R2sZ"
      }
    },
    {
      "cell_type": "markdown",
      "source": [
        "Programa 02 - Escrevedo o mesmo problema modularizado"
      ],
      "metadata": {
        "id": "97kcEQfMNF18"
      }
    },
    {
      "cell_type": "code",
      "source": [
        "# função para calcular a média de duas notas\n",
        "def media(nota1, nota2):\n",
        "    return(nota1+nota2)/2\n",
        "# declarando variáveis para receber os valores das notas\n",
        "nota1 = float(input(\"informe nota 01 \"))\n",
        "nota2 = float(input(\"informe nota 02 \"))\n",
        "# printando resultado\n",
        "print(media(nota1, nota2))"
      ],
      "metadata": {
        "colab": {
          "base_uri": "https://localhost:8080/"
        },
        "id": "3JW8f5rlPlpN",
        "outputId": "f52e6a65-96a3-435d-fa4b-61fc22486a0a"
      },
      "execution_count": null,
      "outputs": [
        {
          "output_type": "stream",
          "name": "stdout",
          "text": [
            "informe nota 01 1\n",
            "informe nota 02 2\n",
            "1.5\n"
          ]
        }
      ]
    },
    {
      "cell_type": "markdown",
      "source": [
        "Faça um programa que solicite o preço de uma mercadoria e o percentual de desconto. Exiba o valor do desconto e o preço a pagar.\n",
        "\n",
        "resposta:"
      ],
      "metadata": {
        "id": "AuTgs7z7R4fJ"
      }
    },
    {
      "cell_type": "code",
      "source": [
        "# definindo a função\n",
        "def calcula_desconto(preco, desconto):\n",
        "  return (preco*desconto)/100\n",
        "\n",
        "# declarando variáveis\n",
        "preco = float(input(\"Informe o preço da mercadoria: \"))\n",
        "desconto = int(input(\"informe o desconto em porcentagem(%): \"))\n",
        "valor_desconto = calcula_desconto(preco, desconto)\n",
        "valor_a_pagar = preco - calcula_desconto(preco, desconto)\n",
        "\n",
        "print(\"Valor do desconto: %7.2f5\" % valor_desconto)\n",
        "\n",
        "print(\"Preço a pagar: %7.2f5\" % valor_a_pagar)"
      ],
      "metadata": {
        "colab": {
          "base_uri": "https://localhost:8080/"
        },
        "id": "dMyA1teMSFhI",
        "outputId": "527517f0-cafc-41f1-b8a7-a7724b62c772"
      },
      "execution_count": null,
      "outputs": [
        {
          "output_type": "stream",
          "name": "stdout",
          "text": [
            "Informe o preço da mercadoria: 10\n",
            "informe o desconto em porcentagem(%): 5\n",
            "Valor do desconto:    0.505\n",
            "Preço a pagar:    9.505\n"
          ]
        }
      ]
    },
    {
      "cell_type": "markdown",
      "source": [
        "Escreva um programa para calcular a redução do tempo de vida de um fumante. Pergunte a quantidade de cigarros fumados por dia e quantos anos ele já fumou. Considere que um fumante perde 10 minutos de vida a cada cigarro, e calcule quantos dias de vida um fumante perderá. Exiba o total em dias.\n",
        "\n",
        "Resposta:"
      ],
      "metadata": {
        "id": "oHiUNy62U7xS"
      }
    },
    {
      "cell_type": "code",
      "source": [
        "# declarando variáveis\n",
        "qtd_cigarro_dia = int(input(\"Informe quantos cigarros você fuma por dia: \"))\n",
        "qtd_ano_fumo = int(input(\"Informe a quantos anos você fuma: \"))\n",
        "dias_fumados = qtd_ano_fumo*365\n",
        "\n",
        "# função para calcular tempo de vida perdido\n",
        "\n",
        "def tempo_perdido(qtd_cigarro_dia, dias_fumados):\n",
        "  total_cigarro = qtd_cigarro_dia*dias_fumados\n",
        "  return ((total_cigarro*10)/60)/24\n",
        "\n",
        "print(\"De acordo com a quantidade de cigarros fumados, você perdeu %7.2f dias de vida\" % tempo_perdido(qtd_cigarro_dia, dias_fumados))"
      ],
      "metadata": {
        "colab": {
          "base_uri": "https://localhost:8080/"
        },
        "id": "0chADHRBVZQJ",
        "outputId": "3a3150c1-a945-4cfd-d058-e8bfc3b1e627"
      },
      "execution_count": null,
      "outputs": [
        {
          "output_type": "stream",
          "name": "stdout",
          "text": [
            "Informe quantos cigarros você fuma por dia: 3\n",
            "Informe a quantos anos você fuma: 5\n",
            "De acordo com a quantidade de cigarros fumados, você perdeu   38.02 dias de vida\n"
          ]
        }
      ]
    },
    {
      "cell_type": "markdown",
      "source": [
        " Escreva um programa para controlar uma pequena máquina registradora. Você deve solicitar ao usuário que digite código do produto e a quantidade comprada. Utilize a tabela de códigos a seguir para obter  o preço de cada produto respectivamente:\n",
        "\n",
        " 1-> 0,50  \n",
        " 2-> 1,00  \n",
        " 3-> 4,00  \n",
        " 5-> 7,00\n",
        " 9-> 8,00\n",
        "\n",
        "Seu programa deve exibir o total das compras depois que o usuário digitar 0. qualquer outro código deve gerar a  mensage, de erro \"código inválido\"."
      ],
      "metadata": {
        "id": "M2vTYqX4ajKr"
      }
    },
    {
      "cell_type": "code",
      "source": [
        "codigo = int(100)\n",
        "total_compras = float(0)\n",
        "\n",
        "while(True):\n",
        "  codigo = int(input(\"Informe o código do produto: \"))\n",
        "  quantidade = int(input(\"Informe a quantidade do produto: \"))\n",
        "  if(codigo == 1):\n",
        "    total_compras += quantidade * 0.5\n",
        "  elif(codigo == 2):\n",
        "    total_compras += quantidade * 1.0\n",
        "  elif(codigo == 3):\n",
        "    total_compras += quantidade * 4.0\n",
        "  elif(codigo == 5):\n",
        "    total_compras += quantidade * 7.0\n",
        "  elif(codigo == 9):\n",
        "    total_compras += quantidade * 8.0\n",
        "  elif(codigo == 0):\n",
        "    break\n",
        "  else:\n",
        "    print(\"Código inválido\")\n",
        "\n",
        "print(\"Total a pagar R$\", total_compras)"
      ],
      "metadata": {
        "colab": {
          "base_uri": "https://localhost:8080/"
        },
        "id": "eQjHy83qYb-j",
        "outputId": "27773160-60cf-4d9a-eb7c-cf6ebd2d7427"
      },
      "execution_count": null,
      "outputs": [
        {
          "output_type": "stream",
          "name": "stdout",
          "text": [
            "Informe o código do produto: 1\n",
            "Informe a quantidade do produto: 1\n",
            "Informe o código do produto: 0\n",
            "Informe a quantidade do produto: 0\n",
            "Total a pagar R$ 0.5\n"
          ]
        }
      ]
    },
    {
      "cell_type": "markdown",
      "source": [
        "lê um vetor de 8 posições e, em seguida, lê dois valores X e Y quaisquer correspondentes a duas posições no vetor. O programa então imprime a soma dos valores encontrados nas respectivas posições X e Y"
      ],
      "metadata": {
        "id": "rM6N9MRsdMF9"
      }
    },
    {
      "cell_type": "code",
      "source": [
        "def main():\n",
        "  #declarando vetor\n",
        "  numeros = [0] * 8\n",
        "  #Captando valores para popular vetor\n",
        "  for i in range(8):\n",
        "    numeros[i] = int(input(\"informe o valor da posição {}: \".format(i)))\n",
        "  #lendo valores de X e Y\n",
        "  x = int(input(\"informe o valor do x: \"))\n",
        "  y = int(input(\"informe o valor do y: \"))\n",
        "  #testando se o índice está dentro do intervalo\n",
        "  if ((x > 7 or x < 0) or (y > 7 or y < 0)):\n",
        "    print(\"Índice informado está fora do intervalo do vetor, seu BURRO!!!! rin! rin! rin!\")\n",
        "  else:\n",
        "    soma = numeros[x] + numeros[y]\n",
        "    print(\"O valor da soma é: \", soma)\n",
        "\n",
        "if __name__ == \"__main__\":\n",
        "  main()\n"
      ],
      "metadata": {
        "colab": {
          "base_uri": "https://localhost:8080/"
        },
        "id": "2n2APjxddqLL",
        "outputId": "c08aded2-1a2d-43e0-a2e4-db88fb79cd32"
      },
      "execution_count": null,
      "outputs": [
        {
          "output_type": "stream",
          "name": "stdout",
          "text": [
            "informe o valor da posição 0: 1\n",
            "informe o valor da posição 1: 2\n",
            "informe o valor da posição 2: 3\n",
            "informe o valor da posição 3: 4\n",
            "informe o valor da posição 4: 5\n",
            "informe o valor da posição 5: 6\n",
            "informe o valor da posição 6: 7\n",
            "informe o valor da posição 7: 8\n",
            "informe o valor do x: -1\n",
            "informe o valor do y: 0\n",
            "Índice informado está fora do intervalo do vetor, seu BURRO!!!! rin! rin! rin!\n"
          ]
        }
      ]
    },
    {
      "cell_type": "markdown",
      "source": [
        "faça um programa em python que receba do usuario um vetor com 10 posições. Em seguida deverá ser impresso o maior e o menor elemento do vetor."
      ],
      "metadata": {
        "id": "ye8VfC-Ijh8j"
      }
    },
    {
      "cell_type": "code",
      "source": [],
      "metadata": {
        "id": "NiXIz0eLp50T"
      },
      "execution_count": null,
      "outputs": []
    },
    {
      "cell_type": "code",
      "source": [
        "def main():\n",
        "  # declarando vetor\n",
        "  numeros = [0] * 10\n",
        "  # declarando variaveis\n",
        "  maior = 0\n",
        "  menor = 9999\n",
        "  soma  = 0\n",
        "  media = 0\n",
        "  qtd_acima_5 = 0\n",
        "  # Captando valores para popular vetor\n",
        "  for i in range(0, len(numeros)):\n",
        "    numeros[i] = int(input(\"informe o valor da posição {}: \".format(i)))\n",
        "\n",
        "  # implementando for para percorrer o vetor\n",
        "  for i in range(0, 10):\n",
        "    if (numeros[i] > maior):\n",
        "        maior =numeros[i]\n",
        "    if (numeros[i] < menor):\n",
        "        menor =numeros[i]\n",
        "    if (numeros[i] > 5):\n",
        "        qtd_acima_5 =qtd_acima_5 + 1\n",
        "    # soma dos elementos\n",
        "    soma = soma +numeros[i]\n",
        "\n",
        "  media = soma/(len(numeros))\n",
        "\n",
        "  print(\"O maior número no vetor é: \", maior)\n",
        "  print(\"O menor número no vetor é: \", menor)\n",
        "  print(\"A soma é: \", soma)\n",
        "  print(\"A média é: \", media)\n",
        "  print(\"A quantidade de numeros maiores que 5 é : \", qtd_acima_5)\n",
        "\n",
        "if __name__ == \"__main__\":\n",
        "  main()\n"
      ],
      "metadata": {
        "colab": {
          "base_uri": "https://localhost:8080/"
        },
        "id": "NbrvbRNUjwv7",
        "outputId": "61e33ee1-3f52-4c1a-b31b-59fb2999a345"
      },
      "execution_count": null,
      "outputs": [
        {
          "output_type": "stream",
          "name": "stdout",
          "text": [
            "informe o valor da posição 0: 1\n",
            "informe o valor da posição 1: 2\n",
            "informe o valor da posição 2: 3\n",
            "informe o valor da posição 3: 4\n",
            "informe o valor da posição 4: 5\n",
            "informe o valor da posição 5: 6\n",
            "informe o valor da posição 6: 7\n",
            "informe o valor da posição 7: 8\n",
            "informe o valor da posição 8: 9\n",
            "informe o valor da posição 9: 10\n",
            "O maior número no vetor é:  10\n",
            "O menor número no vetor é:  1\n",
            "A soma é:  55\n",
            "A média é:  5.5\n",
            "A quantidade de numeros maiores que 5 é :  5\n"
          ]
        }
      ]
    },
    {
      "cell_type": "code",
      "source": [],
      "metadata": {
        "id": "n9ZzdVTSsNh3"
      },
      "execution_count": null,
      "outputs": []
    }
  ]
}